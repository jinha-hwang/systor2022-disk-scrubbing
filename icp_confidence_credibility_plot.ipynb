{
 "cells": [
  {
   "cell_type": "code",
   "execution_count": 1,
   "id": "821a11ff",
   "metadata": {},
   "outputs": [
    {
     "name": "stdout",
     "output_type": "stream",
     "text": [
      "Requirement already satisfied: nonconformist in c:\\programdata\\anaconda3\\lib\\site-packages (2.1.0)\n",
      "Requirement already satisfied: numpy in c:\\programdata\\anaconda3\\lib\\site-packages (from nonconformist) (1.20.3)\n",
      "Requirement already satisfied: pandas in c:\\programdata\\anaconda3\\lib\\site-packages (from nonconformist) (1.3.4)\n",
      "Requirement already satisfied: scikit-learn in c:\\programdata\\anaconda3\\lib\\site-packages (from nonconformist) (0.24.2)\n",
      "Requirement already satisfied: scipy in c:\\programdata\\anaconda3\\lib\\site-packages (from nonconformist) (1.7.1)\n",
      "Requirement already satisfied: python-dateutil>=2.7.3 in c:\\programdata\\anaconda3\\lib\\site-packages (from pandas->nonconformist) (2.8.2)\n",
      "Requirement already satisfied: pytz>=2017.3 in c:\\programdata\\anaconda3\\lib\\site-packages (from pandas->nonconformist) (2021.3)\n",
      "Requirement already satisfied: six>=1.5 in c:\\programdata\\anaconda3\\lib\\site-packages (from python-dateutil>=2.7.3->pandas->nonconformist) (1.16.0)\n",
      "Requirement already satisfied: threadpoolctl>=2.0.0 in c:\\programdata\\anaconda3\\lib\\site-packages (from scikit-learn->nonconformist) (2.2.0)\n",
      "Requirement already satisfied: joblib>=0.11 in c:\\programdata\\anaconda3\\lib\\site-packages (from scikit-learn->nonconformist) (1.1.0)\n"
     ]
    }
   ],
   "source": [
    "!pip install nonconformist"
   ]
  },
  {
   "cell_type": "code",
   "execution_count": 2,
   "id": "23d4e6f8",
   "metadata": {},
   "outputs": [],
   "source": [
    "import numpy as np\n",
    "import pandas as pd\n",
    "from sklearn.ensemble import RandomForestClassifier\n",
    "from sklearn.datasets import make_classification\n",
    "from nonconformist.base import ClassifierAdapter\n",
    "from nonconformist.icp import IcpClassifier\n",
    "from nonconformist.nc import ClassifierNc, MarginErrFunc\n",
    "import matplotlib.pyplot as plt"
   ]
  },
  {
   "cell_type": "code",
   "execution_count": 3,
   "id": "685a2c33",
   "metadata": {},
   "outputs": [],
   "source": [
    "df = pd.read_excel('Baidu_SMART Dataset.xlsx')\n",
    "\n",
    "features_col = ['Raw Read Error Rate','SpinUpTime','Reallocated Sector Count','Seek Error Rate', \\\n",
    "                'Power on Hours','Reported Uncorrectable Error', 'High Fly Writes', \\\n",
    "                'Temperature Celsius', 'Hardware ECC Recovered', 'Current Pending Sector', 'Reallocated Sectors Count', \\\n",
    "                'Current Pending Sectors counts']\n",
    "\n",
    "X = df[features_col].to_numpy()\n",
    "y = df['Drive Status'].to_numpy()"
   ]
  },
  {
   "cell_type": "code",
   "execution_count": 4,
   "id": "3e7fbe38",
   "metadata": {},
   "outputs": [],
   "source": [
    "idx = np.random.permutation(X.shape[0])\n",
    "train = idx[:int(idx.size / 3)]\n",
    "calibrate = idx[int(idx.size / 3):int(2 * idx.size / 3)]\n",
    "test = idx[int(2 * idx.size / 3):]"
   ]
  },
  {
   "cell_type": "code",
   "execution_count": 5,
   "id": "b371f752",
   "metadata": {},
   "outputs": [],
   "source": [
    "icp = IcpClassifier(ClassifierNc(ClassifierAdapter(RandomForestClassifier()),\n",
    "                                 MarginErrFunc()))\n",
    "icp.fit(X[train, :], y[train])\n",
    "icp.calibrate(X[calibrate, :], y[calibrate])"
   ]
  },
  {
   "cell_type": "code",
   "execution_count": 6,
   "id": "475e7e93",
   "metadata": {},
   "outputs": [
    {
     "data": {
      "text/plain": [
       "array(['c0', 'c1', 'Truth'], dtype='<U5')"
      ]
     },
     "execution_count": 6,
     "metadata": {},
     "output_type": "execute_result"
    }
   ],
   "source": [
    "prediction = icp.predict(X[test, :], significance=0.1)\n",
    "header = np.array(['c0','c1','Truth'])\n",
    "header"
   ]
  },
  {
   "cell_type": "code",
   "execution_count": 7,
   "id": "d6aba56f",
   "metadata": {},
   "outputs": [
    {
     "data": {
      "text/plain": [
       "Text(0, 0.5, 'Credibility')"
      ]
     },
     "execution_count": 7,
     "metadata": {},
     "output_type": "execute_result"
    },
    {
     "data": {
      "image/png": "[encoded data removed]",
      "text/plain": [
       "<Figure size 800x600 with 1 Axes>"
      ]
     },
     "metadata": {},
     "output_type": "display_data"
    }
   ],
   "source": [
    "n_instances = y.size\n",
    "idx = np.random.permutation(n_instances)\n",
    "\n",
    "nc = ClassifierNc(ClassifierAdapter(RandomForestClassifier(n_estimators=100)))\n",
    "icp = IcpClassifier(nc)\n",
    "\n",
    "icp.fit(X[train, :], y[train])\n",
    "icp.calibrate(X[calibrate, :], y[calibrate])\n",
    "\n",
    "res = pd.DataFrame(icp.predict_conf(X[test, :]),\n",
    "\t\t\t\t   columns=['Label', 'Confidence', 'Credibility'])\n",
    "cf = res.iloc[:,1]\n",
    "c = res.iloc[:,2]\n",
    "\n",
    "res = {'Credibility':c , 'Confidence':cf}        \n",
    "plt.figure(num=None, figsize=(8, 6), dpi=100, facecolor='w', edgecolor='k')\n",
    "plt.scatter(cf,c)\n",
    "plt.yscale('log')\n",
    "plt.xscale('log')\n",
    "plt.grid(True)\n",
    "plt.title('Uncertainty Estimation of each new prediction')\n",
    "plt.xlabel('Confidence')\n",
    "plt.ylabel('Credibility')\n"
   ]
  },
  {
   "cell_type": "code",
   "execution_count": null,
   "id": "c7e960f2",
   "metadata": {},
   "outputs": [],
   "source": []
  }
 ],
 "metadata": {
  "kernelspec": {
   "display_name": "Python 3 (ipykernel)",
   "language": "python",
   "name": "python3"
  },
  "language_info": {
   "codemirror_mode": {
    "name": "ipython",
    "version": 3
   },
   "file_extension": ".py",
   "mimetype": "text/x-python",
   "name": "python",
   "nbconvert_exporter": "python",
   "pygments_lexer": "ipython3",
   "version": "3.9.7"
  }
 },
 "nbformat": 4,
 "nbformat_minor": 5
}
